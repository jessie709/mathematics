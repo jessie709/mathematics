{
 "cells": [
  {
   "cell_type": "markdown",
   "metadata": {},
   "source": [
    "# Total Derivative\n",
    "\n",
    "全导数/全微分\n",
    "\n",
    "> - [什么是全微分](https://www.zhihu.com/question/31464934/answer/152231899)\n",
    "> - [什么是全导数、偏导数、方向导数？](https://www.zhihu.com/question/26966355/answer/154857139)"
   ]
  },
  {
   "cell_type": "markdown",
   "metadata": {},
   "source": [
    "# Directional Derivate\n",
    "\n",
    "方向导数\n",
    "\n",
    "> - [什么是全导数、偏导数、方向导数？](https://www.zhihu.com/question/26966355/answer/154857139)"
   ]
  },
  {
   "cell_type": "markdown",
   "metadata": {},
   "source": [
    "# Partial Derivate\n",
    "\n",
    "偏导数\n",
    "\n",
    "> - [什么是全导数、偏导数、方向导数？](https://www.zhihu.com/question/26966355/answer/154857139)"
   ]
  },
  {
   "cell_type": "markdown",
   "metadata": {},
   "source": [
    "# Gradient\n",
    "\n",
    "梯度\n",
    "\n",
    "> - [如何直观形象的理解方向导数与梯度以及它们之间的关系？](https://www.matongxue.com/madocs/222.html)\n"
   ]
  },
  {
   "cell_type": "code",
   "execution_count": null,
   "metadata": {},
   "outputs": [],
   "source": []
  }
 ],
 "metadata": {
  "kernelspec": {
   "display_name": "Python 3",
   "language": "python",
   "name": "python3"
  },
  "language_info": {
   "codemirror_mode": {
    "name": "ipython",
    "version": 3
   },
   "file_extension": ".py",
   "mimetype": "text/x-python",
   "name": "python",
   "nbconvert_exporter": "python",
   "pygments_lexer": "ipython3",
   "version": "3.6.5"
  },
  "toc": {
   "base_numbering": 1,
   "nav_menu": {},
   "number_sections": true,
   "sideBar": true,
   "skip_h1_title": false,
   "title_cell": "Table of Contents",
   "title_sidebar": "Contents",
   "toc_cell": false,
   "toc_position": {
    "height": "757px",
    "left": "305px",
    "top": "158px",
    "width": "384px"
   },
   "toc_section_display": true,
   "toc_window_display": true
  }
 },
 "nbformat": 4,
 "nbformat_minor": 2
}
