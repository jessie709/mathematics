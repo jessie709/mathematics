{
 "cells": [
  {
   "cell_type": "markdown",
   "metadata": {},
   "source": [
    "# Central Limit Theorem -- CLT\n",
    "\n",
    "中心极限定理, [Wiki](https://en.wikipedia.org/wiki/Central_limit_theorem) 上的定义为: **When independent random variables are added, their properly normalized sum tends toward a normal distribution even if the original variables themselves are not normally distributed.**\n",
    "\n",
    "上面定义中不好理解的部分是 **their properly normalized sum**, 到底什么是 **适当归一化的总和**, 根据文章的后面一部分描述, 可以将这句话理解为 **平均值**.\n",
    "\n",
    "举一个例子说明: 如果我们想知道全中国人口身高的平均值, 最准确的做法是采集全国所有人口(13 亿)的身高, 然后计算算数平均值(arithmetic mean), 但实际情况无论从时间还是投入的成本上来看, 几乎是不可完成的. 此时我们可以使用**中心极限定理**来实现, 具体做法是: 在全国范围内采集 1000 次, 每次 1000 人的身高, 然后计算每次采集身高的算数平均值, 这样我们可以得到 1000 个平均值, 最后我们再计算出这 1000 个平均值的平局值, 这个结果就大约等于全国平均身高.\n",
    "\n",
    "通俗点的理解, 当需要计算整体平均值时, 可以通过多次采样(每次采样的数据是独立随机变量), 那么即使整体数据并非正态分布, 这些采样数据的平均值也呈正态分布.\n",
    "\n",
    "根据上面的理解, 因为每次采样的平均值呈正态分布, 且正态分布中平均值的概率最高, 因此可以将该平均值等同于总体样本的平均值.\n",
    "\n",
    "下面我们用代码来模拟一下:"
   ]
  },
  {
   "cell_type": "code",
   "execution_count": 1,
   "metadata": {},
   "outputs": [],
   "source": [
    "import numpy as np"
   ]
  },
  {
   "cell_type": "code",
   "execution_count": 3,
   "metadata": {},
   "outputs": [
    {
     "data": {
      "text/plain": [
       "array([0.30139416, 0.09573727, 0.44143134, 0.37649599, 0.96044406,\n",
       "       0.89946813, 0.46929151, 0.10719594, 0.24554231, 0.80428396])"
      ]
     },
     "execution_count": 3,
     "metadata": {},
     "output_type": "execute_result"
    }
   ],
   "source": [
    "# 创建 1 万个均匀分布的随机数\n",
    "N = 10000\n",
    "entirety = np.random.rand(N)\n",
    "np.random.choice(entirety, 10)"
   ]
  }
 ],
 "metadata": {
  "kernelspec": {
   "display_name": "Python 3",
   "language": "python",
   "name": "python3"
  },
  "language_info": {
   "codemirror_mode": {
    "name": "ipython",
    "version": 3
   },
   "file_extension": ".py",
   "mimetype": "text/x-python",
   "name": "python",
   "nbconvert_exporter": "python",
   "pygments_lexer": "ipython3",
   "version": "3.6.8"
  }
 },
 "nbformat": 4,
 "nbformat_minor": 2
}
