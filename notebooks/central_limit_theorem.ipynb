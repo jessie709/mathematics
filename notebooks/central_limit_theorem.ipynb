{
 "cells": [
  {
   "cell_type": "markdown",
   "metadata": {},
   "source": [
    "# Central Limit Theorem -- CLT\n",
    "\n",
    "中心极限定理, [Wiki](https://en.wikipedia.org/wiki/Central_limit_theorem) 上的定义为: **When independent random variables are added, their properly normalized sum tends toward a normal distribution even if the original variables themselves are not normally distributed.**\n",
    "\n",
    "上面定义中不好理解的部分是 **their properly normalized sum**, 到底什么是 **适当归一化的总和**, 根据文章的后面一部分描述, 可以将这句话理解为 **平均值**.\n",
    "\n",
    "举一个例子说明: 如果我们想知道全中国人口身高的平均值, 最准确的做法是采集全国所有人口(13 亿)的身高, 然后计算算数平均值(arithmetic mean), 但实际情况无论从时间还是投入的成本上来看, 几乎是不可完成的. 此时我们可以使用**中心极限定理**来实现, 具体做法是: 在全国范围内采集 1000 次, 每次 1000 人的身高, 然后计算每次采集身高的算数平均值, 这样我们可以得到 1000 个平均值, 最后我们再计算出这 1000 个平均值的平局值, 这个结果就大约等于全国平均身高.\n",
    "\n",
    "通俗点的理解, 当需要计算整体平均值时, 可以通过多次采样(每次采样的数据是独立随机变量), 那么即使整体数据并非正态分布, 这些采样数据的平均值也呈正态分布.\n",
    "\n",
    "根据上面的理解, 因为每次采样的平均值呈正态分布, 且正态分布中平均值的概率最高, 因此可以将该平均值等同于总体样本的平均值.\n",
    "\n",
    "下面我们用代码来模拟一下:"
   ]
  },
  {
   "cell_type": "code",
   "execution_count": 2,
   "metadata": {},
   "outputs": [],
   "source": [
    "import numpy as np\n",
    "import matplotlib.pyplot as plt"
   ]
  },
  {
   "cell_type": "code",
   "execution_count": 115,
   "metadata": {},
   "outputs": [
    {
     "data": {
      "image/png": "[encoded data removed]",
      "text/plain": [
       "<Figure size 432x288 with 1 Axes>"
      ]
     },
     "metadata": {},
     "output_type": "display_data"
    },
    {
     "name": "stdout",
     "output_type": "stream",
     "text": [
      "整体数据的均值：0.5056642476833886\n",
      "100次抽样的均值：0.4986984906319889\n"
     ]
    }
   ],
   "source": [
    "# 设置随机数种子，保证生产的随机数保持一致\n",
    "np.random.seed(79)\n",
    "# 创建 1 万个均匀分布的随机数\n",
    "N = 10000\n",
    "entirety = np.random.rand(N)\n",
    "# 从整体数据中抽取100次，每次随机收取35个数据\n",
    "# 每次抽样数据的均值\n",
    "SN = 100\n",
    "sample_means = np.array([])\n",
    "for _ in range(SN):\n",
    "    sample_means = np.append(sample_means, np.random.choice(entirety, 35).mean())\n",
    "\n",
    "plt.hist(sample_means)\n",
    "plt.axvline(x=sample_means.mean(), c='r')\n",
    "plt.show()\n",
    "\n",
    "\n",
    "print(f'整体数据的均值：{entirety.mean()}')\n",
    "print(f'{SN}次抽样的均值：{sample_means.mean()}')"
   ]
  },
  {
   "cell_type": "markdown",
   "metadata": {},
   "source": [
    "从上面的测试结果可以看出，在总体1万个样本的情况下，进行100次抽样，每次抽样35个，结果显示整体数据均值与抽样均值已经非常接近，且抽样均值呈正态分布。\n",
    "\n",
    "如果将抽样次数提高到1000次，那么抽样均值更加趋近于正态分布"
   ]
  },
  {
   "cell_type": "code",
   "execution_count": 122,
   "metadata": {},
   "outputs": [
    {
     "data": {
      "image/png": "[encoded data removed]",
      "text/plain": [
       "<Figure size 432x288 with 1 Axes>"
      ]
     },
     "metadata": {},
     "output_type": "display_data"
    },
    {
     "name": "stdout",
     "output_type": "stream",
     "text": [
      "整体数据的均值：0.5056642476833886\n",
      "1000次抽样的均值：0.5071385525372916\n"
     ]
    }
   ],
   "source": [
    "# 从整体数据中抽取100次，每次随机收取35个数据\n",
    "# 每次抽样数据的均值\n",
    "SN = 1000\n",
    "sample_means = np.array([])\n",
    "for _ in range(SN):\n",
    "    sample_means = np.append(sample_means, np.random.choice(entirety, 35).mean())\n",
    "\n",
    "plt.hist(sample_means)\n",
    "plt.axvline(x=sample_means.mean(), c='r')\n",
    "plt.show()\n",
    "\n",
    "\n",
    "print(f'整体数据的均值：{entirety.mean()}')\n",
    "print(f'{SN}次抽样的均值：{sample_means.mean()}')"
   ]
  }
 ],
 "metadata": {
  "kernelspec": {
   "display_name": "Python 3",
   "language": "python",
   "name": "python3"
  },
  "language_info": {
   "codemirror_mode": {
    "name": "ipython",
    "version": 3
   },
   "file_extension": ".py",
   "mimetype": "text/x-python",
   "name": "python",
   "nbconvert_exporter": "python",
   "pygments_lexer": "ipython3",
   "version": "3.6.5"
  }
 },
 "nbformat": 4,
 "nbformat_minor": 2
}
