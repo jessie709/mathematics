{
 "cells": [
  {
   "cell_type": "markdown",
   "metadata": {},
   "source": [
    "# Stationary Point"
   ]
  },
  {
   "cell_type": "markdown",
   "metadata": {},
   "source": [
    "# Inflection Point"
   ]
  },
  {
   "cell_type": "markdown",
   "metadata": {},
   "source": [
    "# Convex Set\n",
    "\n",
    "Illustration of a convex set which looks somewhat like a deformed circle. The (black) line segment joining points x and y lies completely within the (green) set. Since this is true for any points x and y within the set that we might choose, the set is convex.\n",
    "\n",
    "![Convex Set](../pics/ConvexSet.png)\n",
    "\n",
    "---\n",
    "\n",
    "Illustration of a non-convex set. Since the (red) part of the (black and red) line-segment joining the points x and y lies outside of the (green) set, the set is non-convex.\n",
    "\n",
    "![Convex Set](../pics/non-ConvexSet.png)"
   ]
  },
  {
   "cell_type": "markdown",
   "metadata": {},
   "source": [
    "# Contingency Matrix\n",
    "\n",
    "在 `sklearn.metrics.cluster` 包中有个 `contingency_matrix` 函数, 它的作用是根据输入的真实分类和预测分类来输出一个称作 `contingency matrix` (可能性矩阵), 也称之为 `contingency table` (列联表/相依表), `cross table` (交叉表).\n",
    "\n",
    "以下主要描述他的具体算法, 即根据输入(真实分类和预测分类)如何得到的一个 \"可能性矩阵\".\n",
    "\n",
    "比如:\n",
    "\n",
    "真实分类 [0,0,1,1]\n",
    "\n",
    "预测分类 [0,0,1,1]\n",
    "\n",
    "我们先手工将这个表画出来\n",
    "\n",
    "|True/Predict| 0 | 1 |\n",
    "|:----------:|---|---|\n",
    "|0|$C_{00}$|$C_{01}$|\n",
    "|1|$C_{10}$|$C_{11}$|\n",
    "\n",
    "上表的意思是真实分类有个两个分类分别是 [0,1] (纵向排列), 预测分类也有两个分类 [0,1] (横向排列), 他们交叉点用 $C_{ij}$ 表示, 其中 $i$ 表示真实分类的类别(这里是 0 和 1), $j$ 表示预测分类的类别(这里是 0 和 1), 所以 $C_{00}$ 表示真实分类 0 和预测分类 0 的数量, 从输入中可以看出该数量应该为 2. 根据该规则我们可以得到如下的结果\n",
    "\n",
    "|True/Predict| 0 | 1 |\n",
    "|:----------:|---|---|\n",
    "|0|$C_{00}$ = 2|$C_{01}$ = 0|\n",
    "|1|$C_{10}$ = 0|$C_{11}$ = 2|\n"
   ]
  },
  {
   "cell_type": "code",
   "execution_count": 2,
   "metadata": {
    "ExecuteTime": {
     "end_time": "2019-11-13T14:10:06.142611Z",
     "start_time": "2019-11-13T14:10:06.136511Z"
    }
   },
   "outputs": [],
   "source": [
    "from sklearn.metrics.cluster import contingency_matrix"
   ]
  },
  {
   "cell_type": "code",
   "execution_count": 4,
   "metadata": {
    "ExecuteTime": {
     "end_time": "2019-11-13T14:12:07.925997Z",
     "start_time": "2019-11-13T14:12:07.916499Z"
    }
   },
   "outputs": [
    {
     "name": "stdout",
     "output_type": "stream",
     "text": [
      "contingency matrix:\n",
      " [[2 0]\n",
      " [0 2]]\n"
     ]
    }
   ],
   "source": [
    "label_true = [0, 0, 1, 1]\n",
    "label_pred = [0, 0, 1, 1]\n",
    "print(f'contingency matrix:\\n {contingency_matrix(label_true, label_pred)}')"
   ]
  },
  {
   "cell_type": "markdown",
   "metadata": {},
   "source": [
    "真实分类 [0,0,1,1]\n",
    "\n",
    "预测分类 [1,1,2,2]\n",
    "\n",
    "|True/Predict| 1 | 2 |\n",
    "|:----------:|---|---|\n",
    "|0|$C_{01}$ = 2|$C_{02}$ = 0|\n",
    "|1|$C_{11}$ = 0|$C_{12}$ = 2|\n"
   ]
  },
  {
   "cell_type": "code",
   "execution_count": 5,
   "metadata": {
    "ExecuteTime": {
     "end_time": "2019-11-13T14:14:15.046233Z",
     "start_time": "2019-11-13T14:14:15.037066Z"
    }
   },
   "outputs": [
    {
     "name": "stdout",
     "output_type": "stream",
     "text": [
      "contingency matrix:\n",
      " [[2 0]\n",
      " [0 2]]\n"
     ]
    }
   ],
   "source": [
    "label_true = [0, 0, 1, 1]\n",
    "label_pred = [1, 1, 2, 2]\n",
    "print(f'contingency matrix:\\n {contingency_matrix(label_true, label_pred)}')"
   ]
  },
  {
   "cell_type": "markdown",
   "metadata": {},
   "source": [
    "真实分类 [0,0,1,1,2]\n",
    "\n",
    "预测分类 [1,1,2,2,2]\n",
    "\n",
    "|True/Predict| 1 | 2 |\n",
    "|:----------:|---|---|\n",
    "|0|$C_{01}$ = 2|$C_{02}$ = 0|\n",
    "|1|$C_{11}$ = 0|$C_{12}$ = 2|\n",
    "|2|$C_{21}$ = 0|$C_{22}$ = 1|\n"
   ]
  },
  {
   "cell_type": "code",
   "execution_count": 7,
   "metadata": {
    "ExecuteTime": {
     "end_time": "2019-11-13T14:16:58.710457Z",
     "start_time": "2019-11-13T14:16:58.702782Z"
    }
   },
   "outputs": [
    {
     "name": "stdout",
     "output_type": "stream",
     "text": [
      "contingency matrix:\n",
      " [[2 0]\n",
      " [0 2]\n",
      " [0 1]]\n"
     ]
    }
   ],
   "source": [
    "label_true = [0, 0, 1, 1, 2]\n",
    "label_pred = [1, 1, 2, 2, 2]\n",
    "print(f'contingency matrix:\\n {contingency_matrix(label_true, label_pred)}')"
   ]
  },
  {
   "cell_type": "code",
   "execution_count": null,
   "metadata": {},
   "outputs": [],
   "source": []
  }
 ],
 "metadata": {
  "kernelspec": {
   "display_name": "Python 3",
   "language": "python",
   "name": "python3"
  },
  "language_info": {
   "codemirror_mode": {
    "name": "ipython",
    "version": 3
   },
   "file_extension": ".py",
   "mimetype": "text/x-python",
   "name": "python",
   "nbconvert_exporter": "python",
   "pygments_lexer": "ipython3",
   "version": "3.6.8"
  },
  "toc": {
   "base_numbering": 1,
   "nav_menu": {},
   "number_sections": true,
   "sideBar": true,
   "skip_h1_title": false,
   "title_cell": "Table of Contents",
   "title_sidebar": "Contents",
   "toc_cell": false,
   "toc_position": {},
   "toc_section_display": true,
   "toc_window_display": false
  }
 },
 "nbformat": 4,
 "nbformat_minor": 2
}
