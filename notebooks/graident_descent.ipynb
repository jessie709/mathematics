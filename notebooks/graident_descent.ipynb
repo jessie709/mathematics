{
 "cells": [
  {
   "cell_type": "markdown",
   "metadata": {},
   "source": [
    "# Study Gradient Descent"
   ]
  },
  {
   "cell_type": "code",
   "execution_count": 6,
   "metadata": {},
   "outputs": [],
   "source": [
    "import matplotlib.pyplot as plt\n",
    "import numpy as np\n",
    "import pandas as pd"
   ]
  },
  {
   "cell_type": "code",
   "execution_count": 10,
   "metadata": {},
   "outputs": [
    {
     "data": {
      "text/html": [
       "<div>\n",
       "<style scoped>\n",
       "    .dataframe tbody tr th:only-of-type {\n",
       "        vertical-align: middle;\n",
       "    }\n",
       "\n",
       "    .dataframe tbody tr th {\n",
       "        vertical-align: top;\n",
       "    }\n",
       "\n",
       "    .dataframe thead th {\n",
       "        text-align: right;\n",
       "    }\n",
       "</style>\n",
       "<table border=\"1\" class=\"dataframe\">\n",
       "  <thead>\n",
       "    <tr style=\"text-align: right;\">\n",
       "      <th></th>\n",
       "      <th>house_size</th>\n",
       "      <th>house_price</th>\n",
       "    </tr>\n",
       "  </thead>\n",
       "  <tbody>\n",
       "    <tr>\n",
       "      <th>0</th>\n",
       "      <td>1100</td>\n",
       "      <td>199000</td>\n",
       "    </tr>\n",
       "    <tr>\n",
       "      <th>1</th>\n",
       "      <td>1400</td>\n",
       "      <td>245000</td>\n",
       "    </tr>\n",
       "    <tr>\n",
       "      <th>2</th>\n",
       "      <td>1425</td>\n",
       "      <td>319000</td>\n",
       "    </tr>\n",
       "    <tr>\n",
       "      <th>3</th>\n",
       "      <td>1550</td>\n",
       "      <td>240000</td>\n",
       "    </tr>\n",
       "    <tr>\n",
       "      <th>4</th>\n",
       "      <td>1600</td>\n",
       "      <td>312000</td>\n",
       "    </tr>\n",
       "    <tr>\n",
       "      <th>5</th>\n",
       "      <td>1700</td>\n",
       "      <td>279000</td>\n",
       "    </tr>\n",
       "    <tr>\n",
       "      <th>6</th>\n",
       "      <td>1700</td>\n",
       "      <td>310000</td>\n",
       "    </tr>\n",
       "    <tr>\n",
       "      <th>7</th>\n",
       "      <td>1875</td>\n",
       "      <td>308000</td>\n",
       "    </tr>\n",
       "    <tr>\n",
       "      <th>8</th>\n",
       "      <td>2350</td>\n",
       "      <td>405000</td>\n",
       "    </tr>\n",
       "    <tr>\n",
       "      <th>9</th>\n",
       "      <td>2450</td>\n",
       "      <td>324000</td>\n",
       "    </tr>\n",
       "  </tbody>\n",
       "</table>\n",
       "</div>"
      ],
      "text/plain": [
       "   house_size  house_price\n",
       "0        1100       199000\n",
       "1        1400       245000\n",
       "2        1425       319000\n",
       "3        1550       240000\n",
       "4        1600       312000\n",
       "5        1700       279000\n",
       "6        1700       310000\n",
       "7        1875       308000\n",
       "8        2350       405000\n",
       "9        2450       324000"
      ]
     },
     "execution_count": 10,
     "metadata": {},
     "output_type": "execute_result"
    }
   ],
   "source": [
    "house_size = [1100, 1400, 1425, 1550, 1600, 1700, 1700, 1875, 2350, 2450]\n",
    "house_price = [199000, 245000, 319000, 240000, 312000, 279000, 310000, 308000, 405000, 324000]\n",
    "\n",
    "house_df = pd.DataFrame({'house_size': house_size, 'house_price': house_price})\n",
    "\n",
    "house_df"
   ]
  },
  {
   "cell_type": "code",
   "execution_count": 12,
   "metadata": {},
   "outputs": [
    {
     "data": {
      "text/plain": [
       "[<matplotlib.lines.Line2D at 0x9194be0>]"
      ]
     },
     "execution_count": 12,
     "metadata": {},
     "output_type": "execute_result"
    },
    {
     "data": {
      "image/png": "[encoded data removed]",
      "text/plain": [
       "<Figure size 432x288 with 1 Axes>"
      ]
     },
     "metadata": {},
     "output_type": "display_data"
    }
   ],
   "source": [
    "plt.plot(house_df.house_size, house_df.house_price, 'rx')"
   ]
  },
  {
   "cell_type": "code",
   "execution_count": 39,
   "metadata": {},
   "outputs": [],
   "source": [
    "def normalization_min_max(p_serial):\n",
    "    v_max = p_serial.max()\n",
    "    v_min = p_serial.min()\n",
    "    v_diff = v_max - v_min\n",
    "    return p_serial.apply(lambda x: round((x - v_min) / v_diff, 2))\n",
    "\n",
    "def plot_line(p_plt, p_a, p_b):\n",
    "    x = np.linspace(0, 1, 100)\n",
    "    y = p_a + p_b * x\n",
    "    p_plt.plot(x, y)\n",
    "\n",
    "def iterate_theta(theta0, theta1, learning_rate, x, y):\n",
    "    predict_price = theta0 + theta1 * x;\n",
    "    new_theta0 = theta0 - (predict_price - y).sum() / predict_price.count()\n",
    "    new_theta1 = theta1 - ((predict_price * x - y * x).sum() / predict_price.size)\n",
    "    return round(new_theta0, 2), round(new_theta1, 2)"
   ]
  },
  {
   "cell_type": "code",
   "execution_count": 40,
   "metadata": {},
   "outputs": [
    {
     "data": {
      "text/html": [
       "<div>\n",
       "<style scoped>\n",
       "    .dataframe tbody tr th:only-of-type {\n",
       "        vertical-align: middle;\n",
       "    }\n",
       "\n",
       "    .dataframe tbody tr th {\n",
       "        vertical-align: top;\n",
       "    }\n",
       "\n",
       "    .dataframe thead th {\n",
       "        text-align: right;\n",
       "    }\n",
       "</style>\n",
       "<table border=\"1\" class=\"dataframe\">\n",
       "  <thead>\n",
       "    <tr style=\"text-align: right;\">\n",
       "      <th></th>\n",
       "      <th>house_size</th>\n",
       "      <th>house_price</th>\n",
       "      <th>normalization_size</th>\n",
       "      <th>normalization_price</th>\n",
       "    </tr>\n",
       "  </thead>\n",
       "  <tbody>\n",
       "    <tr>\n",
       "      <th>0</th>\n",
       "      <td>1100</td>\n",
       "      <td>199000</td>\n",
       "      <td>0.00</td>\n",
       "      <td>0.00</td>\n",
       "    </tr>\n",
       "    <tr>\n",
       "      <th>1</th>\n",
       "      <td>1400</td>\n",
       "      <td>245000</td>\n",
       "      <td>0.22</td>\n",
       "      <td>0.22</td>\n",
       "    </tr>\n",
       "    <tr>\n",
       "      <th>2</th>\n",
       "      <td>1425</td>\n",
       "      <td>319000</td>\n",
       "      <td>0.24</td>\n",
       "      <td>0.58</td>\n",
       "    </tr>\n",
       "    <tr>\n",
       "      <th>3</th>\n",
       "      <td>1550</td>\n",
       "      <td>240000</td>\n",
       "      <td>0.33</td>\n",
       "      <td>0.20</td>\n",
       "    </tr>\n",
       "    <tr>\n",
       "      <th>4</th>\n",
       "      <td>1600</td>\n",
       "      <td>312000</td>\n",
       "      <td>0.37</td>\n",
       "      <td>0.55</td>\n",
       "    </tr>\n",
       "    <tr>\n",
       "      <th>5</th>\n",
       "      <td>1700</td>\n",
       "      <td>279000</td>\n",
       "      <td>0.44</td>\n",
       "      <td>0.39</td>\n",
       "    </tr>\n",
       "    <tr>\n",
       "      <th>6</th>\n",
       "      <td>1700</td>\n",
       "      <td>310000</td>\n",
       "      <td>0.44</td>\n",
       "      <td>0.54</td>\n",
       "    </tr>\n",
       "    <tr>\n",
       "      <th>7</th>\n",
       "      <td>1875</td>\n",
       "      <td>308000</td>\n",
       "      <td>0.57</td>\n",
       "      <td>0.53</td>\n",
       "    </tr>\n",
       "    <tr>\n",
       "      <th>8</th>\n",
       "      <td>2350</td>\n",
       "      <td>405000</td>\n",
       "      <td>0.93</td>\n",
       "      <td>1.00</td>\n",
       "    </tr>\n",
       "    <tr>\n",
       "      <th>9</th>\n",
       "      <td>2450</td>\n",
       "      <td>324000</td>\n",
       "      <td>1.00</td>\n",
       "      <td>0.61</td>\n",
       "    </tr>\n",
       "  </tbody>\n",
       "</table>\n",
       "</div>"
      ],
      "text/plain": [
       "   house_size  house_price  normalization_size  normalization_price\n",
       "0        1100       199000                0.00                 0.00\n",
       "1        1400       245000                0.22                 0.22\n",
       "2        1425       319000                0.24                 0.58\n",
       "3        1550       240000                0.33                 0.20\n",
       "4        1600       312000                0.37                 0.55\n",
       "5        1700       279000                0.44                 0.39\n",
       "6        1700       310000                0.44                 0.54\n",
       "7        1875       308000                0.57                 0.53\n",
       "8        2350       405000                0.93                 1.00\n",
       "9        2450       324000                1.00                 0.61"
      ]
     },
     "execution_count": 40,
     "metadata": {},
     "output_type": "execute_result"
    }
   ],
   "source": [
    "house_df['normalization_size'] = normalization_min_max(house_df.house_size)\n",
    "house_df['normalization_price'] = normalization_min_max(house_df.house_price)\n",
    "house_df"
   ]
  },
  {
   "cell_type": "code",
   "execution_count": 57,
   "metadata": {},
   "outputs": [
    {
     "name": "stdout",
     "output_type": "stream",
     "text": [
      "0.46 0.27 1.2058\n",
      "0.34 0.25 -0.08499999999999985\n",
      "0.35 0.29 0.19659999999999955\n",
      "0.33 0.32 0.13280000000000014\n",
      "0.32 0.35 0.1689999999999997\n",
      "0.3 0.37 0.059799999999999576\n",
      "0.29 0.4 0.09599999999999975\n",
      "0.28 0.42 0.08679999999999999\n",
      "0.27 0.44 0.0776\n",
      "0.26 0.46 0.06840000000000002\n",
      "0.25 0.48 0.059199999999999864\n",
      "0.24 0.5 0.04999999999999982\n",
      "0.24 0.52 0.14079999999999987\n",
      "0.23 0.53 0.08620000000000028\n",
      "0.22 0.54 0.03160000000000007\n",
      "0.22 0.55 0.07700000000000001\n",
      "0.21 0.56 0.022400000000000087\n",
      "0.21 0.57 0.06779999999999964\n",
      "0.2 0.58 0.013199999999999878\n",
      "0.2 0.59 0.05859999999999993\n",
      "0.19 0.6 0.004000000000000059\n",
      "0.19 0.61 0.049399999999999944\n",
      "0.19 0.62 0.09479999999999988\n",
      "0.18 0.62 -0.0052000000000002045\n",
      "0.18 0.63 0.0401999999999999\n"
     ]
    }
   ],
   "source": [
    "# a, b = iterate_theta(0, 0, 0.01, house_df.normalization_size, house_df.normalization_price)\n",
    "# print(a, b)\n",
    "# a, b = iterate_theta(0.46, 0.27, 0.01, house_df.normalization_size, house_df.normalization_price)\n",
    "# print(a, b)\n",
    "# a, b = iterate_theta(0.34, 0.25, 0.01, house_df.normalization_size, house_df.normalization_price)\n",
    "# print(a, b)\n",
    "a, b = 0, 0\n",
    "for x in range(25):\n",
    "    a, b = iterate_theta(a, b, 0.01, house_df.normalization_size, house_df.normalization_price)\n",
    "    print(a, b, ((a + b * house_df.normalization_size) - house_df.normalization_price).sum())"
   ]
  },
  {
   "cell_type": "code",
   "execution_count": 58,
   "metadata": {},
   "outputs": [
    {
     "data": {
      "image/png": "[encoded data removed]",
      "text/plain": [
       "<Figure size 432x288 with 1 Axes>"
      ]
     },
     "metadata": {},
     "output_type": "display_data"
    }
   ],
   "source": [
    "plt.plot(house_df.normalization_size, house_df.normalization_price, 'rx')\n",
    "plot_line(plt, 0, 0)\n",
    "# plot_line(plt, 0.46, 0.27)\n",
    "# plot_line(plt, 0.34, 0.25)\n",
    "# plot_line(plt, 0.26, 0.46)\n",
    "plot_line(plt, 0.19, 0.6)"
   ]
  },
  {
   "cell_type": "code",
   "execution_count": null,
   "metadata": {},
   "outputs": [],
   "source": []
  }
 ],
 "metadata": {
  "kernelspec": {
   "display_name": "Python 3",
   "language": "python",
   "name": "python3"
  },
  "language_info": {
   "codemirror_mode": {
    "name": "ipython",
    "version": 3
   },
   "file_extension": ".py",
   "mimetype": "text/x-python",
   "name": "python",
   "nbconvert_exporter": "python",
   "pygments_lexer": "ipython3",
   "version": "3.6.5"
  }
 },
 "nbformat": 4,
 "nbformat_minor": 2
}
