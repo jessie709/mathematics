{
 "cells": [
  {
   "cell_type": "code",
   "execution_count": 24,
   "metadata": {
    "ExecuteTime": {
     "end_time": "2019-11-15T14:44:38.292424Z",
     "start_time": "2019-11-15T14:44:38.286629Z"
    }
   },
   "outputs": [],
   "source": [
    "import numpy as np\n",
    "from scipy import sparse\n",
    "from sklearn.metrics.cluster import contingency_matrix"
   ]
  },
  {
   "cell_type": "code",
   "execution_count": 18,
   "metadata": {
    "ExecuteTime": {
     "end_time": "2019-11-15T14:39:02.148690Z",
     "start_time": "2019-11-15T14:39:02.139338Z"
    }
   },
   "outputs": [],
   "source": [
    "# ground true 真实分类情况\n",
    "label_true = np.array([1, 2, 1, 1, 3])\n",
    "# 预测分类结果\n",
    "# label_pred = [1, 3, 1, 2, 2]\n",
    "label_pred = np.array([1, 2, 1, 1, 3])"
   ]
  },
  {
   "cell_type": "code",
   "execution_count": 14,
   "metadata": {
    "ExecuteTime": {
     "end_time": "2019-11-15T14:35:01.136426Z",
     "start_time": "2019-11-15T14:35:01.124274Z"
    }
   },
   "outputs": [
    {
     "name": "stdout",
     "output_type": "stream",
     "text": [
      "可能性矩阵(contingency matrix)：\n",
      "[[3 0 0]\n",
      " [0 1 0]\n",
      " [0 0 1]]\n"
     ]
    }
   ],
   "source": [
    "# 可能性矩阵\n",
    "contingency = contingency_matrix(label_true, label_pred)\n",
    "print('可能性矩阵(contingency matrix)：')\n",
    "print(contingency)"
   ]
  },
  {
   "cell_type": "markdown",
   "metadata": {},
   "source": [
    "上面 contingency matrix 得到的结果含义如下：\n",
    "\n",
    "$\n",
    "\\begin{bmatrix}\n",
    "    C_{11} & C_{12} & C_{13} \\\\\n",
    "    C_{21} & C_{22} & C_{23} \\\\\n",
    "    C_{31} & C_{32} & C_{13} \\\\\n",
    "\\end{bmatrix}\n",
    "$\n",
    "\n",
    "其中 $C_{ij}$ 中的 $i$ 表示 `label_true` 的分类 $\\{1,2,3\\}$, $j$ 表示 `label_pred` 的分类 $\\{1,2,3\\}$"
   ]
  },
  {
   "cell_type": "code",
   "execution_count": 15,
   "metadata": {
    "ExecuteTime": {
     "end_time": "2019-11-15T14:35:04.200911Z",
     "start_time": "2019-11-15T14:35:04.190212Z"
    }
   },
   "outputs": [
    {
     "name": "stdout",
     "output_type": "stream",
     "text": [
      "非零行索引: [0 1 2]\n",
      "非零列索引: [0 1 2]\n",
      "非零数据值: [3 1 1]\n"
     ]
    }
   ],
   "source": [
    "# 非零行索引，非零列索引，非零数据值\n",
    "# contingency[nzx, nzy] 能得到所有非零的数据\n",
    "nzx, nzy, nz_val = sparse.find(contingency)\n",
    "\n",
    "print(f'非零行索引: {nzx}')\n",
    "print(f'非零列索引: {nzy}')\n",
    "print(f'非零数据值: {nz_val}')"
   ]
  },
  {
   "cell_type": "code",
   "execution_count": 49,
   "metadata": {
    "ExecuteTime": {
     "end_time": "2019-11-15T15:23:21.690132Z",
     "start_time": "2019-11-15T15:23:21.670405Z"
    }
   },
   "outputs": [
    {
     "name": "stdout",
     "output_type": "stream",
     "text": [
      "求可能性矩阵的合计值: 5\n",
      "按行合计可能性矩阵: [3 1 1]\n",
      "按列合计可能性矩阵: [3 1 1]\n",
      "非零值的对数(2-base): [1.09861229 0.         0.        ]\n",
      "分类混淆结果的概率: [0.6 0.2 0.2]\n",
      "outer: [9 1 1]\n",
      "log_outer: [1.02165125 3.21887582 3.21887582]\n",
      "互信息 mi: 0.9502705392332345\n"
     ]
    }
   ],
   "source": [
    "# 求可能性矩阵的合计值\n",
    "contingency_sum = contingency.sum()\n",
    "# 按行合计可能性矩阵\n",
    "pi = np.ravel(contingency.sum(axis=1))\n",
    "# 按列合计可能性矩阵\n",
    "pj = np.ravel(contingency.sum(axis=0))\n",
    "# 非零值的对数\n",
    "log_contingency_nm = np.log(nz_val)\n",
    "# 分类混淆结果的概率\n",
    "contingency_nm = nz_val / contingency_sum\n",
    "# pi = [3 1 1] nzx = [0 0 1 2] => pi.take(nzx) = [3 3 1 1]\n",
    "# pj = [2 2 1] nzy = [0 1 2 1] => pj.take(nzy) = [2 2 1 2]\n",
    "outer = (pi.take(nzx).astype(np.int64, copy=False)\n",
    "         * pj.take(nzy).astype(np.int64, copy=False))\n",
    "log_outer = -np.log(outer) + np.log(pi.sum()) + np.log(pj.sum())\n",
    "mi = (contingency_nm * (log_contingency_nm - np.log(contingency_sum))\n",
    "      + contingency_nm * log_outer)\n",
    "\n",
    "print(f'求可能性矩阵的合计值: {contingency_sum}')\n",
    "print(f'按行合计可能性矩阵: {pi}')\n",
    "print(f'按列合计可能性矩阵: {pj}')\n",
    "print(f'非零值的对数(2-base): {log_contingency_nm}')\n",
    "print(f'分类混淆结果的概率: {contingency_nm}')\n",
    "print(f'outer: {outer}')\n",
    "print(f'log_outer: {log_outer}')\n",
    "print(f'互信息 mi: {mi.sum()}')"
   ]
  },
  {
   "cell_type": "markdown",
   "metadata": {},
   "source": [
    "$contingency\\_nm = \\frac{可能性矩阵的非空值}{可能性矩阵的合计值}$\n",
    "\n",
    "这个值的意思是 **真实分类** 和 **预测分类** 的混淆结果 $C_{ij}$ 与整个混淆矩阵的合计值的比, 可以看做是概率\n",
    "\n",
    "互信息 mutual information 公式\n",
    "\n",
    "$\n",
    "I(X;Y) = H(Y) - H(Y|X)\n",
    "$"
   ]
  },
  {
   "cell_type": "code",
   "execution_count": 48,
   "metadata": {
    "ExecuteTime": {
     "end_time": "2019-11-15T15:22:50.180384Z",
     "start_time": "2019-11-15T15:22:50.170804Z"
    }
   },
   "outputs": [
    {
     "data": {
      "text/plain": [
       "(1.4941751382893083, 1.4941751382893083)"
      ]
     },
     "execution_count": 48,
     "metadata": {},
     "output_type": "execute_result"
    }
   ],
   "source": [
    "entropy_true = label_true / label_true.sum()\n",
    "entropy_true = -(entropy_true * np.log(entropy_true)).sum()\n",
    "\n",
    "entropy_pred = label_pred / label_pred.sum()\n",
    "entropy_pred = -(entropy_pred * np.log(entropy_pred)).sum()\n",
    "\n",
    "entropy_true, entropy_pred"
   ]
  },
  {
   "cell_type": "code",
   "execution_count": 27,
   "metadata": {
    "ExecuteTime": {
     "end_time": "2019-11-15T14:51:20.108594Z",
     "start_time": "2019-11-15T14:51:20.098867Z"
    }
   },
   "outputs": [
    {
     "data": {
      "text/plain": [
       "array([1, 2, 1, 1, 3])"
      ]
     },
     "execution_count": 27,
     "metadata": {},
     "output_type": "execute_result"
    }
   ],
   "source": [
    "label_true"
   ]
  },
  {
   "cell_type": "code",
   "execution_count": 31,
   "metadata": {
    "ExecuteTime": {
     "end_time": "2019-11-15T14:55:24.603699Z",
     "start_time": "2019-11-15T14:55:24.592691Z"
    }
   },
   "outputs": [
    {
     "data": {
      "text/plain": [
       "array([0.6, 0.2, 0.2])"
      ]
     },
     "execution_count": 31,
     "metadata": {},
     "output_type": "execute_result"
    }
   ],
   "source": [
    "a = np.array([3/5, 1/5, 1/5])\n",
    "a"
   ]
  },
  {
   "cell_type": "code",
   "execution_count": 32,
   "metadata": {
    "ExecuteTime": {
     "end_time": "2019-11-15T14:55:26.982160Z",
     "start_time": "2019-11-15T14:55:26.971492Z"
    }
   },
   "outputs": [
    {
     "data": {
      "text/plain": [
       "1.3709505944546687"
      ]
     },
     "execution_count": 32,
     "metadata": {},
     "output_type": "execute_result"
    }
   ],
   "source": [
    "k = -(a * np.log2(a)).sum()\n",
    "k"
   ]
  },
  {
   "cell_type": "code",
   "execution_count": 42,
   "metadata": {
    "ExecuteTime": {
     "end_time": "2019-11-15T15:21:20.705644Z",
     "start_time": "2019-11-15T15:21:20.696249Z"
    }
   },
   "outputs": [
    {
     "data": {
      "text/plain": [
       "(array([1, 2, 3]), array([0, 1, 0, 0, 2]))"
      ]
     },
     "execution_count": 42,
     "metadata": {},
     "output_type": "execute_result"
    }
   ],
   "source": [
    "w = np.unique(label_pred, return_inverse=True)\n",
    "w"
   ]
  },
  {
   "cell_type": "code",
   "execution_count": 43,
   "metadata": {
    "ExecuteTime": {
     "end_time": "2019-11-15T15:21:23.109211Z",
     "start_time": "2019-11-15T15:21:23.097072Z"
    }
   },
   "outputs": [
    {
     "data": {
      "text/plain": [
       "array([3, 1, 1])"
      ]
     },
     "execution_count": 43,
     "metadata": {},
     "output_type": "execute_result"
    }
   ],
   "source": [
    "pi = np.bincount(w[1])\n",
    "pi"
   ]
  },
  {
   "cell_type": "code",
   "execution_count": 47,
   "metadata": {
    "ExecuteTime": {
     "end_time": "2019-11-15T15:22:30.368564Z",
     "start_time": "2019-11-15T15:22:30.355926Z"
    }
   },
   "outputs": [
    {
     "data": {
      "text/plain": [
       "0.9502705392332345"
      ]
     },
     "execution_count": 47,
     "metadata": {},
     "output_type": "execute_result"
    }
   ],
   "source": [
    "pi_sum = np.sum(pi)\n",
    "-np.sum((pi / pi_sum) * (np.log(pi) - np.log(pi_sum)))"
   ]
  },
  {
   "cell_type": "code",
   "execution_count": 45,
   "metadata": {
    "ExecuteTime": {
     "end_time": "2019-11-15T15:21:55.024122Z",
     "start_time": "2019-11-15T15:21:55.013068Z"
    }
   },
   "outputs": [],
   "source": [
    "from sklearn.metrics.cluster import mutual_info_score"
   ]
  },
  {
   "cell_type": "code",
   "execution_count": 46,
   "metadata": {
    "ExecuteTime": {
     "end_time": "2019-11-15T15:22:18.149375Z",
     "start_time": "2019-11-15T15:22:17.981744Z"
    }
   },
   "outputs": [
    {
     "data": {
      "text/plain": [
       "0.9502705392332345"
      ]
     },
     "execution_count": 46,
     "metadata": {},
     "output_type": "execute_result"
    }
   ],
   "source": [
    "mutual_info_score(label_true, label_pred)"
   ]
  }
 ],
 "metadata": {
  "kernelspec": {
   "display_name": "Python 3",
   "language": "python",
   "name": "python3"
  },
  "language_info": {
   "codemirror_mode": {
    "name": "ipython",
    "version": 3
   },
   "file_extension": ".py",
   "mimetype": "text/x-python",
   "name": "python",
   "nbconvert_exporter": "python",
   "pygments_lexer": "ipython3",
   "version": "3.6.8"
  },
  "toc": {
   "base_numbering": 1,
   "nav_menu": {},
   "number_sections": true,
   "sideBar": true,
   "skip_h1_title": true,
   "title_cell": "Table of Contents",
   "title_sidebar": "Contents",
   "toc_cell": false,
   "toc_position": {},
   "toc_section_display": true,
   "toc_window_display": false
  }
 },
 "nbformat": 4,
 "nbformat_minor": 2
}
