{
 "cells": [
  {
   "cell_type": "code",
   "execution_count": 1,
   "metadata": {
    "ExecuteTime": {
     "end_time": "2019-11-15T09:22:49.305842Z",
     "start_time": "2019-11-15T09:22:49.301842Z"
    }
   },
   "outputs": [],
   "source": [
    "import numpy as np\n",
    "from scipy import sparse\n",
    "from sklearn.metrics.cluster import contingency_matrix"
   ]
  },
  {
   "cell_type": "code",
   "execution_count": 4,
   "metadata": {
    "ExecuteTime": {
     "end_time": "2019-11-15T09:24:43.362042Z",
     "start_time": "2019-11-15T09:24:43.357042Z"
    }
   },
   "outputs": [],
   "source": [
    "# ground true 真实分类情况\n",
    "label_true = [1, 2, 1, 1, 3]\n",
    "# 预测分类结果\n",
    "label_pred = [1, 3, 1, 2, 2]"
   ]
  },
  {
   "cell_type": "code",
   "execution_count": 13,
   "metadata": {
    "ExecuteTime": {
     "end_time": "2019-11-15T09:56:46.077442Z",
     "start_time": "2019-11-15T09:56:46.055442Z"
    }
   },
   "outputs": [
    {
     "name": "stdout",
     "output_type": "stream",
     "text": [
      "可能性矩阵(contingency matrix)：\n",
      "[[2 1 0]\n",
      " [0 0 1]\n",
      " [0 1 0]]\n"
     ]
    }
   ],
   "source": [
    "# 可能性矩阵\n",
    "contingency = contingency_matrix(label_true, label_pred)\n",
    "print('可能性矩阵(contingency matrix)：')\n",
    "print(contingency)"
   ]
  },
  {
   "cell_type": "markdown",
   "metadata": {},
   "source": [
    "上面 contingency matrix 得到的结果含义如下：\n",
    "\n",
    "$\n",
    "\\begin{bmatrix}\n",
    "    C_{11} & C_{12} & C_{13} \\\\\n",
    "    C_{21} & C_{22} & C_{23} \\\\\n",
    "    C_{31} & C_{32} & C_{13} \\\\\n",
    "\\end{bmatrix}\n",
    "$\n",
    "\n",
    "其中 $C_{ij}$ 中的 $i$ 表示 `label_true` 的分类 $\\{1,2,3\\}$, $j$ 表示 `label_pred` 的分类 $\\{1,2,3\\}$"
   ]
  },
  {
   "cell_type": "code",
   "execution_count": 14,
   "metadata": {
    "ExecuteTime": {
     "end_time": "2019-11-15T09:58:11.498042Z",
     "start_time": "2019-11-15T09:58:11.486042Z"
    }
   },
   "outputs": [
    {
     "name": "stdout",
     "output_type": "stream",
     "text": [
      "非零行索引: [0 0 1 2]\n",
      "非零列索引: [0 1 2 1]\n",
      "非零数据值: [2 1 1 1]\n"
     ]
    }
   ],
   "source": [
    "# 非零行索引，非零列索引，非零数据值\n",
    "# contingency[nzx, nzy] 能得到所有非零的数据\n",
    "nzx, nzy, nz_val = sparse.find(contingency)\n",
    "\n",
    "print(f'非零行索引: {nzx}')\n",
    "print(f'非零列索引: {nzy}')\n",
    "print(f'非零数据值: {nz_val}')"
   ]
  },
  {
   "cell_type": "code",
   "execution_count": 15,
   "metadata": {
    "ExecuteTime": {
     "end_time": "2019-11-15T09:59:27.810242Z",
     "start_time": "2019-11-15T09:59:27.800242Z"
    }
   },
   "outputs": [
    {
     "name": "stdout",
     "output_type": "stream",
     "text": [
      "求可能性矩阵的合计值: 5\n",
      "按行合计可能性矩阵: [3 1 1]\n",
      "按列合计可能性矩阵: [2 2 1]\n"
     ]
    }
   ],
   "source": [
    "# 求可能性矩阵的合计值\n",
    "contingency_sum = contingency.sum()\n",
    "# 按行合计可能性矩阵\n",
    "pi = np.ravel(contingency.sum(axis=1))\n",
    "# 按列合计可能性矩阵\n",
    "pj = np.ravel(contingency.sum(axis=0))\n",
    "\n",
    "print(f'求可能性矩阵的合计值: {contingency_sum}')\n",
    "print(f'按行合计可能性矩阵: {pi}')\n",
    "print(f'按列合计可能性矩阵: {pj}')"
   ]
  },
  {
   "cell_type": "code",
   "execution_count": null,
   "metadata": {},
   "outputs": [],
   "source": []
  }
 ],
 "metadata": {
  "kernelspec": {
   "display_name": "Python 3",
   "language": "python",
   "name": "python3"
  },
  "language_info": {
   "codemirror_mode": {
    "name": "ipython",
    "version": 3
   },
   "file_extension": ".py",
   "mimetype": "text/x-python",
   "name": "python",
   "nbconvert_exporter": "python",
   "pygments_lexer": "ipython3",
   "version": "3.6.5"
  },
  "toc": {
   "base_numbering": 1,
   "nav_menu": {},
   "number_sections": true,
   "sideBar": true,
   "skip_h1_title": true,
   "title_cell": "Table of Contents",
   "title_sidebar": "Contents",
   "toc_cell": false,
   "toc_position": {},
   "toc_section_display": true,
   "toc_window_display": false
  }
 },
 "nbformat": 4,
 "nbformat_minor": 2
}
