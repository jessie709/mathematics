{
 "cells": [
  {
   "attachments": {},
   "cell_type": "markdown",
   "metadata": {},
   "source": [
    "# Matplotlib 笔记\n",
    "\n",
    "\n",
    "## Install\n",
    "\n",
    "通过 `Anaconda` 安装。\n",
    "\n",
    "**Step 1**：通过 `Anaconda ` 创建一个新的环境\n",
    "\n",
    "```bash\n",
    "conda create -n matplotlib\n",
    "```\n",
    "\n",
    "**Step 2**：激活 `matplotlib` 环境\n",
    "\n",
    "```bash\n",
    "# OS:Windows\n",
    "conda activate matplotlib\n",
    "\n",
    "# OS:Mac OS X\n",
    "source activate matplotlib\n",
    "```\n",
    "\n",
    "**Step 3**：安装 `matplotlib` 包\n",
    "\n",
    "```bash\n",
    "# install matplotlib packages\n",
    "conda install -c conda-forge matplotlib\n",
    "\n",
    "# update matplotlib packages\n",
    "conda update --all\n",
    "```\n",
    "\n",
    "## Usage Guide\n",
    "\n",
    "### Figure\n",
    "\n",
    "**Parts of a Figure**\n",
    "\n",
    "![](https://matplotlib.org/_images/anatomy.png)\n",
    "\n",
    "The **whole** figure. The figure keeps track of all the child `Axes`, a smattering of 'special' artists (titles, figure legends, etc.), and the **canvas**. A figure can have any number of `Axes`, but to be useful should have at least one.\n"
   ]
  },
  {
   "cell_type": "code",
   "execution_count": 11,
   "metadata": {},
   "outputs": [
    {
     "data": {
      "text/plain": [
       "<Figure size 432x288 with 0 Axes>"
      ]
     },
     "metadata": {},
     "output_type": "display_data"
    }
   ],
   "source": [
    "import matplotlib.pyplot as plt\n",
    "import numpy as np\n",
    "\n",
    "fig = plt.figure() # an empty figure with no axes\n",
    "fig.suptitle('No axes on this figure') # Add a title so we know which it is\n",
    "plt.show()"
   ]
  },
  {
   "cell_type": "markdown",
   "metadata": {},
   "source": [
    "上面的图表没有显示出来，是因为在 `jupyter` 中没有 `Axes` 是不予显示的。如果想看效果可以在命令行下的 `ipython` 中查看。\n",
    "\n",
    "画4个 `Axes`"
   ]
  },
  {
   "cell_type": "code",
   "execution_count": 26,
   "metadata": {},
   "outputs": [
    {
     "data": {
      "image/png": "[encoded data removed]",
      "text/plain": [
       "<Figure size 432x288 with 4 Axes>"
      ]
     },
     "metadata": {},
     "output_type": "display_data"
    }
   ],
   "source": [
    "fig = plt.figure()\n",
    "fig.suptitle('Four Axes')\n",
    "fig.subplots(2, 2)\n",
    "plt.show()"
   ]
  },
  {
   "cell_type": "markdown",
   "metadata": {},
   "source": [
    "### Axes\n",
    "\n",
    "This is what you think of sa 'a plot', it is region of the image with the data space. A give figure can contain many Axes, but a give `Axes` object can only be in on `Figure`. The Axes contains two (or three in the case of 3D) `Axis` objects.\n",
    "\n",
    "### Axis\n",
    "\n",
    "These are the number-line-like objects.\n",
    "\n",
    "### Artist\n",
    "\n",
    "Basically everything you can see on the figure is an artist (event the Figure, Axes, and Axis objects).\n",
    "\n",
    "### Types of inputs to plotting functions\n",
    "\n",
    "All of plotting functions expect `np.array` or `np.ma.masked_array` as input. Classes that are 'array-like' such as `panda` data object and `np.matrix` may or may not work as intended. It is best to convert these to `np.array` objects prior to plotting.\n",
    "\n",
    "For example, to convert a `pandas.DataFrame`"
   ]
  },
  {
   "cell_type": "code",
   "execution_count": 19,
   "metadata": {},
   "outputs": [
    {
     "name": "stdout",
     "output_type": "stream",
     "text": [
      "          a         b         c         d         e\n",
      "0  0.907305  0.782939  0.026997  0.677464  0.385367\n",
      "1  0.863983  0.126165  0.392893  0.314451  0.853375\n",
      "2  0.076606  0.932719  0.929935  0.366033  0.322022\n",
      "3  0.260112  0.456873  0.814938  0.505609  0.080895 \n",
      "\n",
      "[[0.9073048  0.78293949 0.02699716 0.67746353 0.38536669]\n",
      " [0.86398292 0.12616479 0.39289313 0.31445072 0.85337512]\n",
      " [0.07660608 0.93271913 0.92993464 0.36603334 0.32202245]\n",
      " [0.26011217 0.45687329 0.81493787 0.50560889 0.08089527]]\n"
     ]
    }
   ],
   "source": [
    "import pandas\n",
    "\n",
    "a = pandas.DataFrame(np.random.rand(4, 5), columns=list('abcde'))\n",
    "print(a, '\\n')\n",
    "a_as_ndarray = a.values\n",
    "print(a_as_ndarray)"
   ]
  },
  {
   "cell_type": "markdown",
   "metadata": {},
   "source": [
    "and to convert a `np.matrix`"
   ]
  },
  {
   "cell_type": "code",
   "execution_count": 20,
   "metadata": {},
   "outputs": [
    {
     "name": "stdout",
     "output_type": "stream",
     "text": [
      "[[1 2]\n",
      " [3 4]] \n",
      "\n",
      "[[1 2]\n",
      " [3 4]]\n"
     ]
    }
   ],
   "source": [
    "b = np.matrix([[1, 2], [3, 4]])\n",
    "b_as_ndarray = np.asarray(b)\n",
    "print(b, '\\n')\n",
    "print(b_as_ndarray)"
   ]
  },
  {
   "cell_type": "markdown",
   "metadata": {},
   "source": [
    "### Matplotlib, pyplot and pylab: how are thery related?\n",
    "\n",
    "- **Matplotlib** is the whole package\n",
    "- **matplotlib.pyplot** is a module in matplotlib\n",
    "- **pylab** is a module that gets installed alongside matplotlib\n",
    "\n",
    "Pyplot provides the state-machine interface to the underlying object-oriented plotting libary. The state-machine implicity and automatically create figures and axes to achieve the desired plot. For example:"
   ]
  },
  {
   "cell_type": "code",
   "execution_count": 24,
   "metadata": {},
   "outputs": [
    {
     "data": {
      "image/png": "[encoded data removed]",
      "text/plain": [
       "<Figure size 432x288 with 1 Axes>"
      ]
     },
     "metadata": {},
     "output_type": "display_data"
    }
   ],
   "source": [
    "x = np.linspace(0, 2, 100)\n",
    "\n",
    "plt.plot(x, x, label='linear')\n",
    "plt.plot(x, x**2, label='quadratic')\n",
    "plt.plot(x, x**3, label='cubic')\n",
    "\n",
    "plt.xlabel('x label')\n",
    "plt.ylabel('y label')\n",
    "\n",
    "plt.title('Simple Plot')\n",
    "\n",
    "plt.legend()\n",
    "\n",
    "plt.show()"
   ]
  },
  {
   "cell_type": "markdown",
   "metadata": {},
   "source": [
    "### Performance\n",
    "\n",
    "#### Line segement simplification"
   ]
  },
  {
   "cell_type": "code",
   "execution_count": 29,
   "metadata": {},
   "outputs": [
    {
     "data": {
      "image/png": "[encoded data removed]",
      "text/plain": [
       "<Figure size 432x288 with 1 Axes>"
      ]
     },
     "metadata": {},
     "output_type": "display_data"
    }
   ],
   "source": [
    "import numpy as np\n",
    "import matplotlib.pyplot as plt\n",
    "import matplotlib as mpl\n",
    "\n",
    "# Setup, and create the data to plot\n",
    "y = np.random.rand(100000)\n",
    "y[50000:] *= 2\n",
    "y[np.logspace(1, np.log10(50000), 400).astype(int)] = -1\n",
    "mpl.rcParams['path.simplify'] = True\n",
    "\n",
    "mpl.rcParams['path.simplify_threshold'] = 0.0\n",
    "plt.plot(y)\n",
    "plt.show()\n"
   ]
  },
  {
   "cell_type": "markdown",
   "metadata": {},
   "source": [
    "上面的代码很慢，下面的代码秒出，主要是 `path.simpylify` 和 `path.simpylify_threshold` 参数起的作用"
   ]
  },
  {
   "cell_type": "code",
   "execution_count": 30,
   "metadata": {
    "scrolled": true
   },
   "outputs": [
    {
     "data": {
      "image/png": "[encoded data removed]",
      "text/plain": [
       "<Figure size 432x288 with 1 Axes>"
      ]
     },
     "metadata": {},
     "output_type": "display_data"
    }
   ],
   "source": [
    "mpl.rcParams['path.simplify_threshold'] = 1.0\n",
    "plt.plot(y)\n",
    "plt.show()"
   ]
  }
 ],
 "metadata": {
  "kernelspec": {
   "display_name": "Python 3",
   "language": "python",
   "name": "python3"
  },
  "language_info": {
   "codemirror_mode": {
    "name": "ipython",
    "version": 3
   },
   "file_extension": ".py",
   "mimetype": "text/x-python",
   "name": "python",
   "nbconvert_exporter": "python",
   "pygments_lexer": "ipython3",
   "version": "3.6.8"
  }
 },
 "nbformat": 4,
 "nbformat_minor": 2
}
